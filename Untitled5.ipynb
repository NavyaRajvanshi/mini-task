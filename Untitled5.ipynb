{
 "cells": [
  {
   "cell_type": "code",
   "execution_count": null,
   "id": "93f17a3d",
   "metadata": {},
   "outputs": [
    {
     "name": "stdout",
     "output_type": "stream",
     "text": [
      " \n",
      "Biggest statue in world?: \n",
      "A.statue of liberty\n",
      "B.statue of unity\n",
      "C.spring temple buddha\n",
      "D.statue of Belief\n",
      "enter (A,B,c, or D): \n",
      " \n",
      "Who is current miss universe?: \n",
      "A.Harnaz Sandhu\n",
      "B.Manushi Chhillar\n",
      "C.Lara Dutta\n",
      "D.Sushmita Sen\n"
     ]
    }
   ],
   "source": [
    "def start_game():\n",
    "    guess=[]\n",
    "    correct_guess=0\n",
    "    question_num=1\n",
    "    \n",
    "    for key in question:\n",
    "        print(\" \")\n",
    "        print(key)\n",
    "        for i in choices[question_num-1]:\n",
    "            print(i)\n",
    "        guess=input(\"enter (A,B,c, or D): \")   \n",
    "            \n",
    "        question_num+=1\n",
    "        pass\n",
    "def check_answer():\n",
    "    pass\n",
    " \n",
    "\n",
    "\n",
    "question={\n",
    "   \"Biggest statue in world?: \":\"A\",\n",
    "   \"Who is current miss universe?: \":\"A\",\n",
    "   \"who won last IPL?: \":\"B\",\n",
    "   \"Who won first gold medal in tokoyo olympics 2020?: \":\"B\",\n",
    "   \"who was first prime minister of india?\": \"A\",\n",
    "    \"who is father of computer?\": \"A\",\n",
    "    \"who invented telescope?: \":\"D\",\n",
    "    \"Longest river in the world?: \":\"B\"\n",
    "    \n",
    "}\n",
    "\n",
    "choices=[[\"A.statue of liberty\",\"B.statue of unity\",\"C.spring temple buddha\",\"D.statue of Belief\"],\n",
    "         [\"A.Harnaz Sandhu\",\"B.Manushi Chhillar\",\"C.Lara Dutta\",\"D.Sushmita Sen\"],\n",
    "         [\"A.Mumbai Indians\",\"B.Chennai Suoer Kings\",\"C.Delhi Capitals\",\"D.Sunrises Hyderabad\"],\n",
    "         [\"A.Mera Bai Chanu\",\"B.Neeraj Chopra\",\"C.PV Sindhu\",\"D.Non of These\"],\n",
    "         [\"A.Jawaharlal Nehru\",\"B.Indra gandhi\",\"C.Dr Rajengra Prasad\",\"D.None of these\"],\n",
    "         [\"A.Charles Babbage\",\"B.Alan Turing\",\"C.Bob Kahn\",\"D.Dennis Ritchie\"],\n",
    "         [\"A.Issac Newton \",\"B.Galileo\",\"C.Hans Lipperhey\",\"D.Both b and c\"],\n",
    "         [\"A.Narmada\",\"B.Nile\",\"C.Amazon River\",\"D.Mississipi River\"]]\n",
    "          \n",
    "start_game()          \n",
    "          "
   ]
  },
  {
   "cell_type": "code",
   "execution_count": null,
   "id": "79b14790",
   "metadata": {},
   "outputs": [
    {
     "name": "stdout",
     "output_type": "stream",
     "text": [
      " \n",
      "Biggest statue in world?: \n",
      "A.statue of liberty\n",
      "B.statue of unity\n",
      "C.spring temple buddha\n",
      "D.statue of Belief\n",
      "enter (A,B,c, or D): \n",
      " \n",
      "Who is current miss universe?: \n",
      "A.Harnaz Sandhu\n",
      "B.Manushi Chhillar\n",
      "C.Lara Dutta\n",
      "D.Sushmita Sen\n"
     ]
    }
   ],
   "source": [
    "def start_game():\n",
    "    guess=[]\n",
    "    correct_guess=0\n",
    "    question_num=1\n",
    "    \n",
    "    for key in question:\n",
    "        print(\" \")\n",
    "        print(key)\n",
    "        for i in choices[question_num-1]:\n",
    "            print(i)\n",
    "        guess=input(\"enter (A,B,c, or D): \")   \n",
    "            \n",
    "        question_num+=1\n",
    "        pass\n",
    "def check_answer():\n",
    "    pass\n",
    " \n",
    "\n",
    "\n",
    "question={\n",
    "   \"Biggest statue in world?: \":\"A\",\n",
    "   \"Who is current miss universe?: \":\"A\",\n",
    "   \"who won last IPL?: \":\"B\",\n",
    "   \"Who won first gold medal in tokoyo olympics 2020?: \":\"B\",\n",
    "   \"who was first prime minister of india?\": \"A\",\n",
    "    \"who is father of computer?\": \"A\",\n",
    "    \"who invented telescope?: \":\"D\",\n",
    "    \"Longest river in the world?: \":\"B\"\n",
    "    \n",
    "}\n",
    "\n",
    "choices=[[\"A.statue of liberty\",\"B.statue of unity\",\"C.spring temple buddha\",\"D.statue of Belief\"],\n",
    "         [\"A.Harnaz Sandhu\",\"B.Manushi Chhillar\",\"C.Lara Dutta\",\"D.Sushmita Sen\"],\n",
    "         [\"A.Mumbai Indians\",\"B.Chennai Suoer Kings\",\"C.Delhi Capitals\",\"D.Sunrises Hyderabad\"],\n",
    "         [\"A.Mera Bai Chanu\",\"B.Neeraj Chopra\",\"C.PV Sindhu\",\"D.Non of These\"],\n",
    "         [\"A.Jawaharlal Nehru\",\"B.Indra gandhi\",\"C.Dr Rajengra Prasad\",\"D.None of these\"],\n",
    "         [\"A.Charles Babbage\",\"B.Alan Turing\",\"C.Bob Kahn\",\"D.Dennis Ritchie\"],\n",
    "         [\"A.Issac Newton \",\"B.Galileo\",\"C.Hans Lipperhey\",\"D.Both b and c\"],\n",
    "         [\"A.Narmada\",\"B.Nile\",\"C.Amazon River\",\"D.Mississipi River\"]]\n",
    "          \n",
    "start_game()          \n",
    "          "
   ]
  },
  {
   "cell_type": "code",
   "execution_count": null,
   "id": "19a01b6c",
   "metadata": {},
   "outputs": [],
   "source": []
  },
  {
   "cell_type": "code",
   "execution_count": null,
   "id": "8c66ed4a",
   "metadata": {},
   "outputs": [],
   "source": []
  },
  {
   "cell_type": "code",
   "execution_count": null,
   "id": "591b837e",
   "metadata": {},
   "outputs": [],
   "source": []
  }
 ],
 "metadata": {
  "kernelspec": {
   "display_name": "Python 3 (ipykernel)",
   "language": "python",
   "name": "python3"
  },
  "language_info": {
   "codemirror_mode": {
    "name": "ipython",
    "version": 3
   },
   "file_extension": ".py",
   "mimetype": "text/x-python",
   "name": "python",
   "nbconvert_exporter": "python",
   "pygments_lexer": "ipython3",
   "version": "3.9.7"
  }
 },
 "nbformat": 4,
 "nbformat_minor": 5
}
